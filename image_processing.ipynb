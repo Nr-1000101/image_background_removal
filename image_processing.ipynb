{
 "cells": [
  {
   "cell_type": "code",
   "execution_count": 2,
   "id": "edb895c9-333a-44e4-ba94-4ca41155f957",
   "metadata": {},
   "outputs": [],
   "source": [
    "from PIL import Image, ImageOps\n",
    "\n",
    "def introduce_transparency_for_color_range(\n",
    "    input_path: str,\n",
    "    output_path: str,\n",
    "    min_rgb: tuple,\n",
    "    max_rgb: tuple,\n",
    "    transparency: int = 255\n",
    "):\n",
    "    \"\"\"\n",
    "    Makes all pixels within the given RGB interval transparent.\n",
    "    \n",
    "    Args:\n",
    "        input_path (str): Path to input image.\n",
    "        output_path (str): Path to save output image (should be PNG).\n",
    "        min_rgb (tuple): Lower bound of RGB (R, G, B).\n",
    "        max_rgb (tuple): Upper bound of RGB (R, G, B).\n",
    "        transparency (int): a number in between 0 and 255 that defines how transparent the background should be\n",
    "    \"\"\"\n",
    "    # Load and ensure RGBA mode\n",
    "    image = Image.open(input_path).convert(\"RGBA\")\n",
    "    data = image.getdata()\n",
    "\n",
    "    new_data = []\n",
    "    for item in data:\n",
    "        r, g, b, a = item\n",
    "        if (min_rgb[0] <= r <= max_rgb[0] and\n",
    "            min_rgb[1] <= g <= max_rgb[1] and\n",
    "            min_rgb[2] <= b <= max_rgb[2]):\n",
    "            # Make pixel fully transparent\n",
    "            new_data.append((r, g, b, transparency))\n",
    "        else:\n",
    "            new_data.append(item)\n",
    "\n",
    "    # Update image and save\n",
    "    image.putdata(new_data)\n",
    "    image.save(output_path, \"PNG\")\n",
    "    print(f\"Saved with transparency applied → {output_path}\")\n",
    "\n",
    "def get_pixel_color(image_path: str, x: int, y: int, with_alpha: bool = False):\n",
    "    \"\"\"\n",
    "    Returns the color of a pixel in an image.\n",
    "\n",
    "    Args:\n",
    "        image_path (str): Path to the input image.\n",
    "        x (int): X coordinate of the pixel.\n",
    "        y (int): Y coordinate of the pixel.\n",
    "        with_alpha (bool): If True, return RGBA; otherwise return RGB.\n",
    "\n",
    "    Returns:\n",
    "        tuple: The color value at (x, y).\n",
    "    \"\"\"\n",
    "    # Open the image\n",
    "    mode = \"RGBA\" if with_alpha else \"RGB\"\n",
    "    image = Image.open(image_path).convert(mode)\n",
    "\n",
    "    # Get the pixel color\n",
    "    pixel_color = image.getpixel((x, y))\n",
    "\n",
    "    print(f\"The color of the pixel at ({x}, {y}) is {pixel_color}\")\n",
    "    return pixel_color\n",
    "\n",
    "def invert_image(input_path=\"plot.png\", output_path=\"plot_dark.png\"):\n",
    "    \"\"\"\n",
    "    Invert the colors of an image to create a dark-mode friendly version.\n",
    "\n",
    "    Parameters\n",
    "    ----------\n",
    "    input_path : str, optional\n",
    "        Path to the input image (default is \"plot.png\").\n",
    "    output_path : str, optional\n",
    "        Path to save the inverted output image (default is \"plot_dark.png\").\n",
    "\n",
    "    Returns\n",
    "    -------\n",
    "    str\n",
    "        Path to the saved inverted image.\n",
    "    \"\"\"\n",
    "    # Open the image\n",
    "    img = Image.open(input_path)\n",
    "    \n",
    "    # Convert to RGB mode to ensure it has 3 channels (needed for inversion)\n",
    "    img_rgb = img.convert(\"RGB\")\n",
    "    \n",
    "    # Invert the colors\n",
    "    inverted = ImageOps.invert(img_rgb)\n",
    "    \n",
    "    # Save the result\n",
    "    inverted.save(output_path)\n",
    "    \n",
    "    return output_path"
   ]
  },
  {
   "cell_type": "code",
   "execution_count": 5,
   "id": "c2f43568-5e96-41ae-b3e6-5af984f5818d",
   "metadata": {},
   "outputs": [
    {
     "name": "stdout",
     "output_type": "stream",
     "text": [
      "The color of the pixel at (1, 1) is (255, 255, 255)\n"
     ]
    }
   ],
   "source": [
    "file = \"pic\"\n",
    "color = get_pixel_color(file+\".png\", 1, 1, with_alpha=False)"
   ]
  },
  {
   "cell_type": "code",
   "execution_count": 8,
   "id": "49ed9ae6-9a44-41c8-957b-622f375bf954",
   "metadata": {},
   "outputs": [
    {
     "data": {
      "text/plain": [
       "'plot_dark.png'"
      ]
     },
     "execution_count": 8,
     "metadata": {},
     "output_type": "execute_result"
    }
   ],
   "source": [
    "invert_image(file+\".png\", file+\"_dark.png\")"
   ]
  },
  {
   "cell_type": "code",
   "execution_count": 6,
   "id": "8242e640-e408-4d93-b070-1fce5486a4f7",
   "metadata": {},
   "outputs": [
    {
     "name": "stdout",
     "output_type": "stream",
     "text": [
      "Saved with transparency applied → pic_no_bg.png\n"
     ]
    }
   ],
   "source": [
    "introduce_transparency_for_color_range(\n",
    "    input_path=file+\".png\",\n",
    "    output_path=file+\"_no_bg.png\",\n",
    "    min_rgb=(255,) * 3,\n",
    "    max_rgb=(255,) * 3,\n",
    "    transparency = 0\n",
    ")"
   ]
  }
 ],
 "metadata": {
  "kernelspec": {
   "display_name": "Python 3 (ipykernel)",
   "language": "python",
   "name": "python3"
  },
  "language_info": {
   "codemirror_mode": {
    "name": "ipython",
    "version": 3
   },
   "file_extension": ".py",
   "mimetype": "text/x-python",
   "name": "python",
   "nbconvert_exporter": "python",
   "pygments_lexer": "ipython3",
   "version": "3.12.3"
  }
 },
 "nbformat": 4,
 "nbformat_minor": 5
}
