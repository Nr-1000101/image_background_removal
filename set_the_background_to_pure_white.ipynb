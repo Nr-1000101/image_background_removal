{
 "cells": [
  {
   "cell_type": "code",
   "execution_count": 2,
   "id": "7bc3c1db-2b51-4763-a840-a8ea48ef9295",
   "metadata": {
    "collapsed": true,
    "jupyter": {
     "outputs_hidden": true
    }
   },
   "outputs": [
    {
     "name": "stdout",
     "output_type": "stream",
     "text": [
      "Defaulting to user installation because normal site-packages is not writeable\n",
      "Collecting opencv-python\n",
      "  Downloading opencv_python-4.11.0.86-cp37-abi3-win_amd64.whl.metadata (20 kB)\n",
      "Requirement already satisfied: numpy>=1.21.2 in c:\\programdata\\anaconda3\\lib\\site-packages (from opencv-python) (1.26.4)\n",
      "Downloading opencv_python-4.11.0.86-cp37-abi3-win_amd64.whl (39.5 MB)\n",
      "   ---------------------------------------- 0.0/39.5 MB ? eta -:--:--\n",
      "   ---------------------------------------- 0.3/39.5 MB ? eta -:--:--\n",
      "   - -------------------------------------- 1.0/39.5 MB 3.6 MB/s eta 0:00:11\n",
      "   - -------------------------------------- 1.8/39.5 MB 3.6 MB/s eta 0:00:11\n",
      "   -- ------------------------------------- 2.4/39.5 MB 3.7 MB/s eta 0:00:10\n",
      "   --- ------------------------------------ 3.4/39.5 MB 3.9 MB/s eta 0:00:10\n",
      "   ---- ----------------------------------- 4.7/39.5 MB 4.2 MB/s eta 0:00:09\n",
      "   ----- ---------------------------------- 5.8/39.5 MB 4.3 MB/s eta 0:00:08\n",
      "   ------- -------------------------------- 7.1/39.5 MB 4.6 MB/s eta 0:00:07\n",
      "   -------- ------------------------------- 8.1/39.5 MB 4.7 MB/s eta 0:00:07\n",
      "   --------- ------------------------------ 9.4/39.5 MB 4.9 MB/s eta 0:00:07\n",
      "   ----------- ---------------------------- 11.0/39.5 MB 5.1 MB/s eta 0:00:06\n",
      "   ------------ --------------------------- 12.3/39.5 MB 5.2 MB/s eta 0:00:06\n",
      "   -------------- ------------------------- 13.9/39.5 MB 5.4 MB/s eta 0:00:05\n",
      "   --------------- ------------------------ 15.5/39.5 MB 5.6 MB/s eta 0:00:05\n",
      "   ----------------- ---------------------- 17.0/39.5 MB 5.7 MB/s eta 0:00:04\n",
      "   ------------------ --------------------- 18.6/39.5 MB 5.8 MB/s eta 0:00:04\n",
      "   -------------------- ------------------- 19.9/39.5 MB 5.9 MB/s eta 0:00:04\n",
      "   --------------------- ------------------ 21.5/39.5 MB 5.9 MB/s eta 0:00:04\n",
      "   ----------------------- ---------------- 23.1/39.5 MB 6.0 MB/s eta 0:00:03\n",
      "   ------------------------ --------------- 24.6/39.5 MB 6.1 MB/s eta 0:00:03\n",
      "   -------------------------- ------------- 26.0/39.5 MB 6.1 MB/s eta 0:00:03\n",
      "   --------------------------- ------------ 27.5/39.5 MB 6.2 MB/s eta 0:00:02\n",
      "   ----------------------------- ---------- 29.1/39.5 MB 6.2 MB/s eta 0:00:02\n",
      "   ------------------------------ --------- 30.4/39.5 MB 6.3 MB/s eta 0:00:02\n",
      "   ------------------------------- -------- 31.5/39.5 MB 6.2 MB/s eta 0:00:02\n",
      "   --------------------------------- ------ 33.6/39.5 MB 6.3 MB/s eta 0:00:01\n",
      "   ----------------------------------- ---- 35.1/39.5 MB 6.4 MB/s eta 0:00:01\n",
      "   ------------------------------------ --- 36.4/39.5 MB 6.4 MB/s eta 0:00:01\n",
      "   -------------------------------------- - 38.0/39.5 MB 6.4 MB/s eta 0:00:01\n",
      "   ---------------------------------------  39.3/39.5 MB 6.5 MB/s eta 0:00:01\n",
      "   ---------------------------------------  39.3/39.5 MB 6.5 MB/s eta 0:00:01\n",
      "   ---------------------------------------  39.3/39.5 MB 6.5 MB/s eta 0:00:01\n",
      "   ---------------------------------------  39.3/39.5 MB 6.5 MB/s eta 0:00:01\n",
      "   ---------------------------------------- 39.5/39.5 MB 5.7 MB/s eta 0:00:00\n",
      "Installing collected packages: opencv-python\n",
      "Successfully installed opencv-python-4.11.0.86\n",
      "Note: you may need to restart the kernel to use updated packages.\n"
     ]
    }
   ],
   "source": [
    "pip install opencv-python"
   ]
  },
  {
   "cell_type": "code",
   "execution_count": 1,
   "id": "7ad96791-b8aa-45f5-b4c9-d6a6e281a15b",
   "metadata": {},
   "outputs": [
    {
     "name": "stdout",
     "output_type": "stream",
     "text": [
      "Saved image with transparent background as img_no_bg.png\n"
     ]
    }
   ],
   "source": [
    "import cv2\n",
    "import numpy as np\n",
    "\n",
    "# Load the image\n",
    "image = cv2.imread(\"img.png\")\n",
    "image_rgb = cv2.cvtColor(image, cv2.COLOR_BGR2RGB)\n",
    "\n",
    "# Define a threshold to detect white/gray background\n",
    "lower = np.array([200, 200, 200])  # Light gray to white\n",
    "upper = np.array([255, 255, 255])\n",
    "\n",
    "# Create mask where background is white/gray\n",
    "mask = cv2.inRange(image_rgb, lower, upper)\n",
    "\n",
    "# Invert mask to get the foreground\n",
    "mask_inv = cv2.bitwise_not(mask)\n",
    "\n",
    "# Convert the image to BGRA (to add alpha channel)\n",
    "image_bgra = cv2.cvtColor(image, cv2.COLOR_BGR2BGRA)\n",
    "\n",
    "# Set alpha channel according to the inverted mask\n",
    "image_bgra[:, :, 3] = mask_inv\n",
    "\n",
    "# Save the result\n",
    "cv2.imwrite(\"img_no_bg.png\", image_bgra)\n",
    "\n",
    "print(\"Saved image with transparent background as img_no_bg.png\")"
   ]
  },
  {
   "cell_type": "code",
   "execution_count": null,
   "id": "a806de25-2af6-49c6-a2a5-7e033651230a",
   "metadata": {},
   "outputs": [],
   "source": []
  }
 ],
 "metadata": {
  "kernelspec": {
   "display_name": "Python 3 (ipykernel)",
   "language": "python",
   "name": "python3"
  },
  "language_info": {
   "codemirror_mode": {
    "name": "ipython",
    "version": 3
   },
   "file_extension": ".py",
   "mimetype": "text/x-python",
   "name": "python",
   "nbconvert_exporter": "python",
   "pygments_lexer": "ipython3",
   "version": "3.12.4"
  }
 },
 "nbformat": 4,
 "nbformat_minor": 5
}
