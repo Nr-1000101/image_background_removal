{
 "cells": [
  {
   "cell_type": "code",
   "execution_count": 3,
   "id": "edb895c9-333a-44e4-ba94-4ca41155f957",
   "metadata": {},
   "outputs": [
    {
     "name": "stdout",
     "output_type": "stream",
     "text": [
      "Image saved with a transparent background.\n"
     ]
    }
   ],
   "source": [
    "from PIL import Image\n",
    "\n",
    "# Load the image\n",
    "image = Image.open(\"sp.png\")\n",
    "\n",
    "# Convert the image to RGBA (if not already in that mode)\n",
    "image = image.convert(\"RGBA\")\n",
    "\n",
    "# Get the data of the image\n",
    "data = image.getdata()\n",
    "\n",
    "# Define the color you want to make transparent (for example, white background)\n",
    "# You can replace this with the RGB value of your specific background color\n",
    "transparent_color = (255, 255, 255, 255)\n",
    "\n",
    "# Create a new image with transparency\n",
    "new_data = []\n",
    "\n",
    "# Loop through the pixels and make the background color transparent\n",
    "for item in data:\n",
    "    # If the pixel matches the background color, make it transparent\n",
    "    if item[:3] == transparent_color[:3]:\n",
    "        new_data.append((255, 255, 255, 0))  # Set the pixel to transparent\n",
    "    else:\n",
    "        new_data.append(item)  # Keep the other pixels unchanged\n",
    "\n",
    "# Update the image data with transparency\n",
    "image.putdata(new_data)\n",
    "\n",
    "# Save the new image with a transparent background\n",
    "image.save(\"output_image.png\", \"PNG\")\n",
    "\n",
    "print(\"Image saved with a transparent background.\")"
   ]
  },
  {
   "cell_type": "code",
   "execution_count": 2,
   "id": "c2f43568-5e96-41ae-b3e6-5af984f5818d",
   "metadata": {},
   "outputs": [
    {
     "name": "stdout",
     "output_type": "stream",
     "text": [
      "The color of the pixel at (10, 10) is (255, 255, 255)\n"
     ]
    }
   ]
