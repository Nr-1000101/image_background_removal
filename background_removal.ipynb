{
 "cells": [
  {
   "cell_type": "code",
   "execution_count": 3,
   "id": "edb895c9-333a-44e4-ba94-4ca41155f957",
   "metadata": {},
   "outputs": [
    {
     "name": "stdout",
     "output_type": "stream",
     "text": [
      "Image saved with a transparent background.\n"
     ]
    }
   ],
   "source": [
    "from PIL import Image\n",
    "\n",
    "# Load the image\n",
    "image = Image.open(\"sp.png\")\n",
    "\n",
    "# Convert the image to RGBA (if not already in that mode)\n",
    "image = image.convert(\"RGBA\")\n",
    "\n",
    "# Get the data of the image\n",
    "data = image.getdata()\n",
    "\n",
    "# Define the color you want to make transparent (for example, white background)\n",
    "# You can replace this with the RGB value of your specific background color\n",
    "transparent_color = (255, 255, 255, 255)\n",
    "\n",
    "# Create a new image with transparency\n",
    "new_data = []\n",
    "\n",
    "# Loop through the pixels and make the background color transparent\n",
    "for item in data:\n",
    "    # If the pixel matches the background color, make it transparent\n",
    "    if item[:3] == transparent_color[:3]:\n",
    "        new_data.append((255, 255, 255, 0))  # Set the pixel to transparent\n",
    "    else:\n",
    "        new_data.append(item)  # Keep the other pixels unchanged\n",
    "\n",
    "# Update the image data with transparency\n",
    "image.putdata(new_data)\n",
    "\n",
    "# Save the new image with a transparent background\n",
    "image.save(\"output_image.png\", \"PNG\")\n",
    "\n",
    "print(\"Image saved with a transparent background.\")"
   ]
  },
  {
   "cell_type": "code",
   "execution_count": 2,
   "id": "c2f43568-5e96-41ae-b3e6-5af984f5818d",
   "metadata": {},
   "outputs": [
    {
     "name": "stdout",
     "output_type": "stream",
     "text": [
      "The color of the pixel at (10, 10) is (255, 255, 255)\n"
     ]
    }
   ],
   "source": [
    "from PIL import Image\n",
    "\n",
    "# Load the image\n",
    "image = Image.open(\"sp.png\")\n",
    "\n",
    "# Convert the image to RGB mode (if not already in that mode)\n",
    "image = image.convert(\"RGB\")\n",
    "\n",
    "# Get the color of a specific pixel (x, y)\n",
    "x, y = 10, 10  # Replace with the coordinates of the pixel you want to check\n",
    "pixel_color = image.getpixel((x, y))\n",
    "\n",
    "# Print the color of the pixel\n",
    "print(f\"The color of the pixel at ({x}, {y}) is {pixel_color}\")\n"
   ]
  },
  {
   "cell_type": "code",
   "execution_count": 3,
   "id": "e61a7c00-9e8b-4200-8298-e47413e0c26e",
   "metadata": {},
   "outputs": [
    {
     "name": "stdout",
     "output_type": "stream",
     "text": [
      "SVG contour saved to sticker_contour.svg\n",
      "You can now import this file into Inkscape.\n"
     ]
    }
   ],
   "source": [
    "def generate_svg_sticker_contour(output_filename=\"sticker_contour.svg\"):\n",
    "    \"\"\"\n",
    "    Generates an SVG file with a path approximating the outer contour of the sticker.\n",
    "    The path is defined manually based on visual inspection of the provided image.\n",
    "    \"\"\"\n",
    "\n",
    "    # Define the viewBox for the SVG. This sets the coordinate system for the path.\n",
    "    # We'll use a width of 200 units and a height of 240 units.\n",
    "    view_box_width = 200\n",
    "    view_box_height = 240\n",
    "\n",
    "    # Define the SVG path data (the 'd' attribute of the <path> element).\n",
    "    # M = moveto (starts a new subpath)\n",
    "    # C = curveto (cubic Bezier curve: C control_point1_x control_point1_y, control_point2_x control_point2_y, end_point_x end_point_y)\n",
    "    # Z = closepath (closes the current subpath by drawing a straight line to the start)\n",
    "    #\n",
    "    # The coordinates are chosen to approximate the sticker's white border.\n",
    "    # (0,0) is the top-left corner of the viewBox.\n",
    "    path_data = (\n",
    "        \"M 10 110 \"  # Start point: Mid-left side of the sticker\n",
    "\n",
    "        # Top edge (curving around cat's head and ears)\n",
    "        \"C 10 70, 20 40, 45 30 \"    # Curve upwards to the first lobe (cat's left ear area)\n",
    "        \"C 60 20, 80 10, 100 10 \"   # Curve to the central top lobe (top of cat's head)\n",
    "        \"C 120 10, 140 20, 155 30 \" # Curve to the third lobe (cat's right ear area)\n",
    "\n",
    "        # Right edge (curving around cat's body and prominent tail)\n",
    "        \"C 180 50, 185 65, 185 80 \" # Curve downwards along the right side of cat's body\n",
    "        \"C 195 95, 198 105, 195 120 \" # Curve outwards for the tail protrusion (peak of tail)\n",
    "        \"C 192 135, 185 150, 175 160 \" # Curve inwards after the tail\n",
    "\n",
    "        # Bottom edge (curving under the text \"Practice makes purrfect\")\n",
    "        \"C 170 190, 165 225, 150 230 \" # Curve to the bottom-right lobe (under \"purrfect\")\n",
    "        \"C 135 235, 115 230, 100 220 \" # Curve to the valley/dip between the words\n",
    "        \"C 85 230, 65 235, 50 230 \"   # Curve to the bottom-left lobe (under \"Practice\")\n",
    "\n",
    "        # Left edge (curving back to the start point)\n",
    "        \"C 20 225, 10 160, 10 110 Z\"  # Curve upwards along the left side, closing the path\n",
    "    )\n",
    "\n",
    "    # Construct the full SVG content\n",
    "    # The 'fill=\"none\"' and 'stroke=\"black\"' make the path visible as an outline.\n",
    "    # Inkscape will use this path, and you can change these properties there.\n",
    "    svg_content = f\"\"\"<svg width=\"{view_box_width}px\" height=\"{view_box_height}px\" viewBox=\"0 0 {view_box_width} {view_box_height}\" xmlns=\"http://www.w3.org/2000/svg\">\n",
    "  <path d=\"{path_data}\" fill=\"none\" stroke=\"black\" stroke-width=\"1\"/>\n",
    "</svg>\n",
    "\"\"\"\n",
    "\n",
    "    # Write the SVG content to the specified output file\n",
    "    try:\n",
    "        with open(output_filename, \"w\") as f:\n",
    "            f.write(svg_content)\n",
    "        print(f\"SVG contour saved to {output_filename}\")\n",
    "        print(\"You can now import this file into Inkscape.\")\n",
    "    except IOError as e:\n",
    "        print(f\"Error writing file: {e}\")\n",
    "\n",
    "if __name__ == \"__main__\":\n",
    "    # Generate the SVG file with the default filename \"sticker_contour.svg\"\n",
    "    generate_svg_sticker_contour()\n",
    "\n",
    "    # If you want to use a different filename, you can call it like this:\n",
    "    # generate_svg_sticker_contour(\"my_cat_sticker_outline.svg\")"
   ]
  },
  {
   "cell_type": "code",
   "execution_count": null,
   "id": "76611e91-446d-40b4-b5c4-af377f340f9a",
   "metadata": {},
   "outputs": [],
   "source": []
  }
 ],
 "metadata": {
  "kernelspec": {
   "display_name": "Python 3 (ipykernel)",
   "language": "python",
   "name": "python3"
  },
  "language_info": {
   "codemirror_mode": {
    "name": "ipython",
    "version": 3
   },
   "file_extension": ".py",
   "mimetype": "text/x-python",
   "name": "python",
   "nbconvert_exporter": "python",
   "pygments_lexer": "ipython3",
   "version": "3.12.4"
  }
 },
 "nbformat": 4,
 "nbformat_minor": 5
}
